{
 "cells": [
  {
   "cell_type": "code",
   "execution_count": 1,
   "metadata": {},
   "outputs": [
    {
     "name": "stdout",
     "output_type": "stream",
     "text": [
      "('Kevin', 'kevin@cti.lat')\n"
     ]
    }
   ],
   "source": [
    "import sqlite3\n",
    "conn = sqlite3.connect('DBs/sql1.db')\n",
    "cur = conn.cursor()\n",
    "cur.execute(\"select * from Users\")\n",
    "row = cur.fetchone()\n",
    "print(row)\n",
    "cur.close()\n"
   ]
  },
  {
   "cell_type": "code",
   "execution_count": 11,
   "metadata": {
    "scrolled": true
   },
   "outputs": [
    {
     "name": "stdout",
     "output_type": "stream",
     "text": [
      "iupui.edu 536\n",
      "umich.edu 491\n",
      "indiana.edu 178\n",
      "caret.cam.ac.uk 157\n",
      "vt.edu 110\n",
      "uct.ac.za 96\n",
      "media.berkeley.edu 56\n",
      "ufp.pt 28\n",
      "gmail.com 25\n",
      "et.gatech.edu 17\n"
     ]
    }
   ],
   "source": [
    "import sqlite3\n",
    "sqlite_file = 'db.sqlite'\n",
    "conn = sqlite3.connect(sqlite_file)\n",
    "cur = conn.cursor()\n",
    "\n",
    "cur.execute('DROP TABLE IF EXISTS Counts')\n",
    "\n",
    "cur.execute('CREATE TABLE Counts (org  TEXT, count INTEGER)')\n",
    "\n",
    "fname = 'mbox.txt'\n",
    "fh = open(fname)\n",
    "dict_domain = dict()\n",
    "for line in fh:\n",
    "    if not line.startswith('From: '): continue\n",
    "    pieces = line.split()\n",
    "    domain = pieces[1].split(\"@\")[1]\n",
    "    dict_domain[domain] = dict_domain.get(domain,0)+1\n",
    "\n",
    "for k,v in dict_domain.items():\n",
    "     cur.execute('INSERT INTO Counts (org , count) VALUES (?, ?)', (k,v))\n",
    "conn.commit()\n",
    "sqlstr = 'SELECT org , count FROM Counts ORDER BY count DESC LIMIT 10'\n",
    "\n",
    "for row in cur.execute(sqlstr):\n",
    "    print(str(row[0]), row[1])\n",
    "\n",
    "cur.close()"
   ]
  },
  {
   "cell_type": "code",
   "execution_count": 24,
   "metadata": {},
   "outputs": [
    {
     "name": "stdout",
     "output_type": "stream",
     "text": [
      "Chase the Ace AC/DC Who Made Who Rock\n",
      "D.T. AC/DC Who Made Who Rock\n",
      "For Those About To Rock (We Salute You) AC/DC Who Made Who Rock\n"
     ]
    }
   ],
   "source": [
    "import sqlite3\n",
    "import xml.etree.ElementTree as ET\n",
    "\n",
    "sqlite_file = 'db2.sqlite'\n",
    "conn = sqlite3.connect(sqlite_file)\n",
    "cur = conn.cursor()\n",
    "\n",
    "cur.executescript('''\n",
    "DROP TABLE IF EXISTS Artist;\n",
    "DROP TABLE IF EXISTS Genre;\n",
    "DROP TABLE IF EXISTS Album;\n",
    "DROP TABLE IF EXISTS Track;\n",
    "\n",
    "CREATE TABLE Artist (\n",
    "    id  INTEGER NOT NULL PRIMARY KEY AUTOINCREMENT UNIQUE,\n",
    "    name    TEXT UNIQUE\n",
    ");\n",
    "\n",
    "CREATE TABLE Genre (\n",
    "    id  INTEGER NOT NULL PRIMARY KEY AUTOINCREMENT UNIQUE,\n",
    "    name    TEXT UNIQUE\n",
    ");\n",
    "\n",
    "CREATE TABLE Album (\n",
    "    id  INTEGER NOT NULL PRIMARY KEY AUTOINCREMENT UNIQUE,\n",
    "    artist_id  INTEGER,\n",
    "    title   TEXT UNIQUE\n",
    ");\n",
    "\n",
    "CREATE TABLE Track (\n",
    "    id  INTEGER NOT NULL PRIMARY KEY \n",
    "        AUTOINCREMENT UNIQUE,\n",
    "    title TEXT  UNIQUE,\n",
    "    album_id  INTEGER,\n",
    "    genre_id  INTEGER,\n",
    "    len INTEGER, rating INTEGER, count INTEGER\n",
    ");\n",
    "\n",
    "''');\n",
    "\n",
    "def lookup(d, key):\n",
    "    found = False\n",
    "    for child in d:\n",
    "        if found : return child.text\n",
    "        if child.tag == 'key' and child.text == key :\n",
    "            found = True\n",
    "    return None\n",
    "\n",
    "fname = 'Library.xml'\n",
    "fh = open(fname)\n",
    "    \n",
    "stuff = ET.parse(fname)\n",
    "all = stuff.findall('dict/dict/dict')\n",
    "for entry in all:\n",
    "    if ( lookup(entry, 'Track ID') is None ) : continue\n",
    "\n",
    "    name = lookup(entry, 'Name')\n",
    "    artist = lookup(entry, 'Artist')\n",
    "    album = lookup(entry, 'Album')\n",
    "    count = lookup(entry, 'Play Count')\n",
    "    rating = lookup(entry, 'Rating')\n",
    "    length = lookup(entry, 'Total Time')\n",
    "    genre = lookup(entry, 'Genre')\n",
    "    if name is None or artist is None or album is None or genre is None : \n",
    "        continue\n",
    "    \n",
    "    \n",
    "    cur.execute('''INSERT OR IGNORE INTO Artist (name) \n",
    "        VALUES ( ? )''', ( artist, ) )\n",
    "    cur.execute('SELECT id FROM Artist WHERE name = ? ', (artist, ))\n",
    "    artist_id = cur.fetchone()[0]\n",
    "    \n",
    "    cur.execute('''INSERT OR IGNORE INTO Genre (name) \n",
    "        VALUES ( ? )''', ( genre, ) )\n",
    "    cur.execute('SELECT id FROM Genre WHERE name = ? ', (genre, ))\n",
    "    genre_id = cur.fetchone()[0]\n",
    "\n",
    "    cur.execute('''INSERT OR IGNORE INTO Album (title, artist_id) \n",
    "        VALUES ( ?, ? )''', ( album, artist_id ) )\n",
    "    cur.execute('SELECT id FROM Album WHERE title = ? ', (album, ))\n",
    "    album_id = cur.fetchone()[0]\n",
    "\n",
    "    cur.execute('''INSERT OR REPLACE INTO Track\n",
    "        (title, album_id, len, rating, count, genre_id) \n",
    "        VALUES ( ?, ?, ?, ?, ?, ? )''', \n",
    "        ( name, album_id, length, rating, count, genre_id) )\n",
    "\n",
    "conn.commit()\n",
    "\n",
    "sqlstr = '''\n",
    "SELECT Track.title, Artist.name, Album.title, Genre.name \n",
    "    FROM Track JOIN Genre JOIN Album JOIN Artist \n",
    "    ON Track.genre_id = Genre.ID and Track.album_id = Album.id \n",
    "        AND Album.artist_id = Artist.id\n",
    "    ORDER BY Artist.name,Track.title LIMIT 3\n",
    "'''\n",
    "\n",
    "for row in cur.execute(sqlstr):\n",
    "    print(str(row[0]), row[1], row[2], row[3])\n",
    "\n",
    "cur.close()"
   ]
  }
 ],
 "metadata": {
  "kernelspec": {
   "display_name": "Python 3",
   "language": "python",
   "name": "python3"
  },
  "language_info": {
   "codemirror_mode": {
    "name": "ipython",
    "version": 3
   },
   "file_extension": ".py",
   "mimetype": "text/x-python",
   "name": "python",
   "nbconvert_exporter": "python",
   "pygments_lexer": "ipython3",
   "version": "3.7.1"
  }
 },
 "nbformat": 4,
 "nbformat_minor": 4
}
