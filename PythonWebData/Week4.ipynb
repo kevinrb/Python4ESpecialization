{
 "cells": [
  {
   "cell_type": "code",
   "execution_count": 1,
   "metadata": {
    "scrolled": true
   },
   "outputs": [
    {
     "name": "stdout",
     "output_type": "stream",
     "text": [
      "But soft what light through yonder window breaks\n",
      "It is the east and Juliet is the sun\n",
      "Arise fair sun and kill the envious moon\n",
      "Who is already sick and pale with grief\n"
     ]
    }
   ],
   "source": [
    "import urllib.request, urllib.parse, urllib.error\n",
    "fhand = urllib.request.urlopen('http://data.pr4e.org/romeo.txt')\n",
    "for line in fhand:\n",
    "    print(line.decode().strip())"
   ]
  },
  {
   "cell_type": "code",
   "execution_count": 2,
   "metadata": {
    "scrolled": true
   },
   "outputs": [
    {
     "name": "stdout",
     "output_type": "stream",
     "text": [
      "{'But': 1, 'soft': 1, 'what': 1, 'light': 1, 'through': 1, 'yonder': 1, 'window': 1, 'breaks': 1, 'It': 1, 'is': 3, 'the': 3, 'east': 1, 'and': 3, 'Juliet': 1, 'sun': 2, 'Arise': 1, 'fair': 1, 'kill': 1, 'envious': 1, 'moon': 1, 'Who': 1, 'already': 1, 'sick': 1, 'pale': 1, 'with': 1, 'grief': 1}\n"
     ]
    }
   ],
   "source": [
    "fhand = urllib.request.urlopen('http://data.pr4e.org/romeo.txt')\n",
    "counts = dict()\n",
    "for line in fhand:\n",
    "    words = line.decode().split()\n",
    "    for word in words:\n",
    "        counts[word]= counts.get(word,0) + 1\n",
    "print(counts)"
   ]
  },
  {
   "cell_type": "code",
   "execution_count": 3,
   "metadata": {},
   "outputs": [
    {
     "name": "stdout",
     "output_type": "stream",
     "text": [
      "Enter - https://www.tiendacerca.pe/\n",
      "#main-content\n",
      "/\n",
      "/grocerLogin\n",
      "/register\n",
      "https://www.bavaria.co/bavaria-contigo\n",
      "/yamaha-steps\n",
      "/yamaha-steps\n",
      "/yamaha-steps\n",
      "/flayer\n",
      "/grocerSchool\n",
      "https://www.tiendacerca.pe/sites/default/files/2020-06/Guia%20bodegueros%20tienda%20cerca%20v2.pdf\n",
      "/cuidado-negocio\n",
      "/client-register\n",
      "/credit-form\n",
      "/grocerFAQ\n",
      "https://www.tiendacerca.pe/sites/default/files/2020-07/T%26C%20-%20Promo%20en%20casa%20%283%29.pdf\n",
      "/sites/default/files/2020-06/POLÍTICA%20DE%20PRIV%20Y%20PROT%20DE%20DATOS%20PERSO_PER%20%28version%202020%29.pdf\n",
      "#\n",
      "/cupones\n",
      "#\n",
      "https://wa.me/3057506449\n",
      "tel:+570314293431\n",
      "\n",
      "\n",
      "#\n",
      "https://www.puntored.co/\n",
      "#\n",
      "#\n",
      "#\n",
      "#\n",
      "#carouselExampleControls\n",
      "#carouselExampleControls\n",
      "\n",
      "#\n",
      "#\n",
      "#\n",
      "#\n"
     ]
    }
   ],
   "source": [
    "from bs4 import BeautifulSoup\n",
    "import ssl\n",
    "ctx=ssl.create_default_context()\n",
    "ctx.check_hostname = False\n",
    "ctx.verify_mode = ssl.CERT_NONE\n",
    "\n",
    "url = input(\"Enter - \")\n",
    "html = urllib.request.urlopen(url,context=ctx).read()\n",
    "soup = BeautifulSoup(html,\"html.parser\")\n",
    "\n",
    "tags = soup('a')\n",
    "for tag in tags:\n",
    "    print(tag.get('href',None))"
   ]
  },
  {
   "cell_type": "code",
   "execution_count": 4,
   "metadata": {
    "scrolled": true
   },
   "outputs": [
    {
     "name": "stdout",
     "output_type": "stream",
     "text": [
      "<class 'http.client.HTTPResponse'>\n"
     ]
    },
    {
     "data": {
      "text/plain": [
       "<http.client.HTTPResponse at 0x2918a71fbe0>"
      ]
     },
     "execution_count": 4,
     "metadata": {},
     "output_type": "execute_result"
    }
   ],
   "source": [
    "x = urllib.request.urlopen('http://data.pr4e.org/romeo.txt')\n",
    "print(type(x))\n",
    "x"
   ]
  },
  {
   "cell_type": "code",
   "execution_count": 5,
   "metadata": {
    "scrolled": false
   },
   "outputs": [
    {
     "name": "stdout",
     "output_type": "stream",
     "text": [
      "<class 'socket.socket'>\n",
      "HTTP/1.1 400 Bad Request\n",
      "Date: Sun, 02 Aug 2020 17:41:47 GMT\n",
      "Server: Apache/2.4.18 (Ubuntu)\n",
      "Content-Length: 308\n",
      "Connection: close\n",
      "Content-Type: text/html; charset=iso-8859-1\n",
      "\n",
      "<!DOCTYPE HTML PUBLIC \"-//IETF//DTD HTML 2.0//EN\">\n",
      "<html><head>\n",
      "<title>400 Bad Request</title>\n",
      "</head><body>\n",
      "<h1>Bad Request</h1>\n",
      "<p>Your browser sent a request that this server could not understand.<br />\n",
      "</p>\n",
      "<hr>\n",
      "<address>Apache/2.4.18 (Ubuntu) Server at do1.dr-chuck.com Port 80</address>\n",
      "</body></html>\n",
      "\n"
     ]
    }
   ],
   "source": [
    "import socket\n",
    "\n",
    "mysock = socket.socket(socket.AF_INET, socket.SOCK_STREAM)\n",
    "mysock.connect(('data.pr4e.org', 80))\n",
    "cmd = 'GET http://data.pr4e.org/romeo.txt HTTP/1.0\\n\\n'.encode()\n",
    "mysock.send(cmd)\n",
    "print(type(mysock))\n",
    "while True:\n",
    "    data = mysock.recv(512)\n",
    "    if (len(data) < 1):\n",
    "        break\n",
    "    print(data.decode())\n",
    "mysock.close()"
   ]
  },
  {
   "cell_type": "code",
   "execution_count": 7,
   "metadata": {
    "scrolled": true
   },
   "outputs": [
    {
     "name": "stdout",
     "output_type": "stream",
     "text": [
      "Enter - http://py4e-data.dr-chuck.net/comments_42.html\n",
      "Count 50\n",
      "Sum 2553\n"
     ]
    }
   ],
   "source": [
    "from bs4 import BeautifulSoup\n",
    "import ssl\n",
    "ctx=ssl.create_default_context()\n",
    "ctx.check_hostname = False\n",
    "ctx.verify_mode = ssl.CERT_NONE\n",
    "\n",
    "url = input(\"Enter - \")\n",
    "html = urllib.request.urlopen(url,context=ctx).read()\n",
    "soup = BeautifulSoup(html,\"html.parser\")\n",
    "\n",
    "tags = soup('span')\n",
    "suma = 0\n",
    "count = 0 \n",
    "for tag in tags:\n",
    "    suma += int(tag.contents[0])\n",
    "    count +=1\n",
    "\n",
    "print(\"Count\",count)\n",
    "print(\"Sum\",suma)"
   ]
  },
  {
   "cell_type": "code",
   "execution_count": 9,
   "metadata": {
    "scrolled": false
   },
   "outputs": [
    {
     "name": "stdout",
     "output_type": "stream",
     "text": [
      "Enter URL: http://py4e-data.dr-chuck.net/known_by_Fikret.html\n",
      "Enter Count: 4\n",
      "Enter position: 3\n",
      "Retrieving: http://py4e-data.dr-chuck.net/known_by_Fikret.html\n",
      "Retrieving: http://py4e-data.dr-chuck.net/known_by_Montgomery.html\n",
      "Retrieving: http://py4e-data.dr-chuck.net/known_by_Mhairade.html\n",
      "Retrieving: http://py4e-data.dr-chuck.net/known_by_Butchi.html\n",
      "Retrieving: http://py4e-data.dr-chuck.net/known_by_Anayah.html\n"
     ]
    }
   ],
   "source": [
    "from bs4 import BeautifulSoup\n",
    "import ssl\n",
    "ctx=ssl.create_default_context()\n",
    "ctx.check_hostname = False\n",
    "ctx.verify_mode = ssl.CERT_NONE\n",
    "\n",
    "url = input(\"Enter URL: \")\n",
    "count = input(\"Enter Count: \")\n",
    "position = input(\"Enter position: \")\n",
    "i=0\n",
    "while i<int(count)+1:\n",
    "    print(\"Retrieving:\",url)\n",
    "    html = urllib.request.urlopen(url,context=ctx).read()\n",
    "    soup = BeautifulSoup(html,\"html.parser\")\n",
    "    tags = soup('a')\n",
    "    url = tags[int(position)-1].get('href',None)\n",
    "    i+=1"
   ]
  }
 ],
 "metadata": {
  "kernelspec": {
   "display_name": "Python 3",
   "language": "python",
   "name": "python3"
  },
  "language_info": {
   "codemirror_mode": {
    "name": "ipython",
    "version": 3
   },
   "file_extension": ".py",
   "mimetype": "text/x-python",
   "name": "python",
   "nbconvert_exporter": "python",
   "pygments_lexer": "ipython3",
   "version": "3.7.1"
  }
 },
 "nbformat": 4,
 "nbformat_minor": 4
}
