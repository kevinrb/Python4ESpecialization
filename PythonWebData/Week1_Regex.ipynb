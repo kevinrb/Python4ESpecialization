{
 "cells": [
  {
   "cell_type": "code",
   "execution_count": 9,
   "metadata": {},
   "outputs": [
    {
     "data": {
      "text/plain": [
       "445833"
      ]
     },
     "execution_count": 9,
     "metadata": {},
     "output_type": "execute_result"
    }
   ],
   "source": [
    "import re\n",
    "tem=open(\"regex_sum_42.txt\").read()\n",
    "por=re.findall(\"[0-9]+\",tem)\n",
    "sum([int(tem2) for tem2 in por])"
   ]
  },
  {
   "cell_type": "code",
   "execution_count": 11,
   "metadata": {},
   "outputs": [
    {
     "name": "stdout",
     "output_type": "stream",
     "text": [
      "521714\n"
     ]
    }
   ],
   "source": [
    "import re\n",
    "tem=open(\"regex_sum_830877.txt\").read()\n",
    "por=re.findall(\"[0-9]+\",tem)\n",
    "print(sum([int(tem2) for tem2 in por]))"
   ]
  }
 ],
 "metadata": {
  "kernelspec": {
   "display_name": "Python 3",
   "language": "python",
   "name": "python3"
  },
  "language_info": {
   "codemirror_mode": {
    "name": "ipython",
    "version": 3
   },
   "file_extension": ".py",
   "mimetype": "text/x-python",
   "name": "python",
   "nbconvert_exporter": "python",
   "pygments_lexer": "ipython3",
   "version": "3.7.1"
  }
 },
 "nbformat": 4,
 "nbformat_minor": 4
}
