{
 "cells": [
  {
   "cell_type": "code",
   "execution_count": 1,
   "metadata": {
    "scrolled": true
   },
   "outputs": [
    {
     "name": "stdout",
     "output_type": "stream",
     "text": [
      "Name: Chuck\n",
      "Hide: yes\n"
     ]
    }
   ],
   "source": [
    "import json\n",
    "data= '''{\n",
    "\"name\":\"Chuck\",\n",
    "\"phone\":{\n",
    "\"type\":\"intl\",\n",
    "\"number\":\"+1 734 303 4456\"\n",
    "},\n",
    "\"email\":{\n",
    "\"hide\":\"yes\"\n",
    "}\n",
    "}'''\n",
    "\n",
    "info = json.loads(data)\n",
    "print('Name:',info[\"name\"])\n",
    "print('Hide:',info[\"email\"][\"hide\"])"
   ]
  },
  {
   "cell_type": "code",
   "execution_count": 2,
   "metadata": {
    "scrolled": true
   },
   "outputs": [
    {
     "name": "stdout",
     "output_type": "stream",
     "text": [
      "User count: 2\n",
      "Name Chuck\n",
      "Id 001\n",
      "Attribute 2\n",
      "Name Chuck\n",
      "Id 009\n",
      "Attribute 7\n"
     ]
    }
   ],
   "source": [
    "input1='''[\n",
    "{\n",
    "\"id\":\"001\",\n",
    "\"x\":\"2\",\n",
    "\"name\":\"Chuck\"\n",
    "},\n",
    "{\n",
    "\"id\":\"009\",\n",
    "\"x\":\"7\",\n",
    "\"name\":\"Chuck\"\n",
    "}\n",
    "]'''\n",
    "info = json.loads(input1)\n",
    "print('User count:',len(info))\n",
    "for item in info:\n",
    "    print('Name',item['name'])\n",
    "    print(\"Id\",item['id'])\n",
    "    print(\"Attribute\",item['x'])"
   ]
  },
  {
   "cell_type": "code",
   "execution_count": 9,
   "metadata": {
    "scrolled": true
   },
   "outputs": [
    {
     "name": "stdout",
     "output_type": "stream",
     "text": [
      "^C\n"
     ]
    }
   ],
   "source": [
    "!pip uninstall oauth"
   ]
  },
  {
   "cell_type": "code",
   "execution_count": 7,
   "metadata": {},
   "outputs": [],
   "source": []
  },
  {
   "cell_type": "code",
   "execution_count": 10,
   "metadata": {
    "scrolled": false
   },
   "outputs": [
    {
     "name": "stdout",
     "output_type": "stream",
     "text": [
      "* Calling Twitter...\n"
     ]
    },
    {
     "ename": "AttributeError",
     "evalue": "module 'oauth' has no attribute 'oauth'",
     "output_type": "error",
     "traceback": [
      "\u001b[1;31m---------------------------------------------------------------------------\u001b[0m",
      "\u001b[1;31mAttributeError\u001b[0m                            Traceback (most recent call last)",
      "\u001b[1;32m<ipython-input-10-9ff3a4a35594>\u001b[0m in \u001b[0;36m<module>\u001b[1;34m\u001b[0m\n\u001b[0;32m      6\u001b[0m \u001b[0mTWITTER_URL\u001b[0m\u001b[1;33m=\u001b[0m\u001b[1;34m\"https://api.twitter.com/1.1/statuses/user_timeline.json\"\u001b[0m\u001b[1;33m\u001b[0m\u001b[1;33m\u001b[0m\u001b[0m\n\u001b[0;32m      7\u001b[0m \u001b[0mprint\u001b[0m\u001b[1;33m(\u001b[0m\u001b[1;34m'* Calling Twitter...'\u001b[0m\u001b[1;33m)\u001b[0m\u001b[1;33m\u001b[0m\u001b[1;33m\u001b[0m\u001b[0m\n\u001b[1;32m----> 8\u001b[1;33m \u001b[0murl\u001b[0m \u001b[1;33m=\u001b[0m \u001b[0maugment\u001b[0m\u001b[1;33m(\u001b[0m\u001b[0mTWITTER_URL\u001b[0m\u001b[1;33m,\u001b[0m\u001b[1;33m{\u001b[0m\u001b[1;34m'screen_name'\u001b[0m\u001b[1;33m:\u001b[0m\u001b[1;34m\"drchuck\"\u001b[0m\u001b[1;33m,\u001b[0m\u001b[1;34m'count'\u001b[0m\u001b[1;33m:\u001b[0m\u001b[1;34m'2'\u001b[0m\u001b[1;33m}\u001b[0m\u001b[1;33m)\u001b[0m\u001b[1;33m\u001b[0m\u001b[1;33m\u001b[0m\u001b[0m\n\u001b[0m\u001b[0;32m      9\u001b[0m \u001b[0mprint\u001b[0m\u001b[1;33m(\u001b[0m\u001b[0murl\u001b[0m\u001b[1;33m)\u001b[0m\u001b[1;33m\u001b[0m\u001b[1;33m\u001b[0m\u001b[0m\n\u001b[0;32m     10\u001b[0m \u001b[1;33m\u001b[0m\u001b[0m\n",
      "\u001b[1;32m~\\Documents\\Cursos\\Coursera DS\\Python4ESpecialization\\PythonWebData\\twurl.py\u001b[0m in \u001b[0;36maugment\u001b[1;34m(url, parameters)\u001b[0m\n\u001b[0;32m      5\u001b[0m \u001b[1;32mdef\u001b[0m \u001b[0maugment\u001b[0m\u001b[1;33m(\u001b[0m\u001b[0murl\u001b[0m\u001b[1;33m,\u001b[0m\u001b[0mparameters\u001b[0m\u001b[1;33m)\u001b[0m\u001b[1;33m:\u001b[0m\u001b[1;33m\u001b[0m\u001b[1;33m\u001b[0m\u001b[0m\n\u001b[0;32m      6\u001b[0m     \u001b[0msecrets\u001b[0m \u001b[1;33m=\u001b[0m \u001b[0mhidden\u001b[0m\u001b[1;33m.\u001b[0m\u001b[0moauth\u001b[0m\u001b[1;33m(\u001b[0m\u001b[1;33m)\u001b[0m\u001b[1;33m\u001b[0m\u001b[1;33m\u001b[0m\u001b[0m\n\u001b[1;32m----> 7\u001b[1;33m     \u001b[0mconsumer\u001b[0m \u001b[1;33m=\u001b[0m \u001b[0moauth\u001b[0m\u001b[1;33m.\u001b[0m\u001b[0moauth\u001b[0m\u001b[1;33m.\u001b[0m\u001b[0mOAuthConsumer\u001b[0m\u001b[1;33m(\u001b[0m\u001b[0msecrets\u001b[0m\u001b[1;33m[\u001b[0m\u001b[1;34m'consumer_key'\u001b[0m\u001b[1;33m]\u001b[0m\u001b[1;33m,\u001b[0m\u001b[0msecrets\u001b[0m\u001b[1;33m[\u001b[0m\u001b[1;34m'consumer_secret'\u001b[0m\u001b[1;33m]\u001b[0m\u001b[1;33m)\u001b[0m\u001b[1;33m\u001b[0m\u001b[1;33m\u001b[0m\u001b[0m\n\u001b[0m\u001b[0;32m      8\u001b[0m     \u001b[0mtoken\u001b[0m \u001b[1;33m=\u001b[0m \u001b[0moauth\u001b[0m\u001b[1;33m.\u001b[0m\u001b[0moauth\u001b[0m\u001b[1;33m.\u001b[0m\u001b[0mOAuthToken\u001b[0m\u001b[1;33m(\u001b[0m\u001b[0msecrets\u001b[0m\u001b[1;33m[\u001b[0m\u001b[1;34m'token_key'\u001b[0m\u001b[1;33m]\u001b[0m\u001b[1;33m,\u001b[0m \u001b[0msecrets\u001b[0m\u001b[1;33m[\u001b[0m\u001b[1;34m'token_secret'\u001b[0m\u001b[1;33m]\u001b[0m\u001b[1;33m)\u001b[0m\u001b[1;33m\u001b[0m\u001b[1;33m\u001b[0m\u001b[0m\n\u001b[0;32m      9\u001b[0m     \u001b[0moauth_request\u001b[0m \u001b[1;33m=\u001b[0m \u001b[0moauth\u001b[0m\u001b[1;33m.\u001b[0m\u001b[0moauth\u001b[0m\u001b[1;33m.\u001b[0m\u001b[0mOAuthRequest\u001b[0m\u001b[1;33m.\u001b[0m\u001b[0mfrom_consumer_and_token\u001b[0m\u001b[1;33m(\u001b[0m\u001b[0mconsumer\u001b[0m\u001b[1;33m,\u001b[0m \u001b[0mtoken\u001b[0m\u001b[1;33m=\u001b[0m\u001b[0mtoken\u001b[0m\u001b[1;33m,\u001b[0m \u001b[0mhttp_method\u001b[0m\u001b[1;33m=\u001b[0m\u001b[1;34m'GET'\u001b[0m\u001b[1;33m,\u001b[0m \u001b[0mhttp_url\u001b[0m\u001b[1;33m=\u001b[0m\u001b[0murl\u001b[0m\u001b[1;33m,\u001b[0m \u001b[0mparameters\u001b[0m\u001b[1;33m=\u001b[0m\u001b[0mparameters\u001b[0m\u001b[1;33m)\u001b[0m\u001b[1;33m\u001b[0m\u001b[1;33m\u001b[0m\u001b[0m\n",
      "\u001b[1;31mAttributeError\u001b[0m: module 'oauth' has no attribute 'oauth'"
     ]
    }
   ],
   "source": [
    "import urllib.request,urllib.parse,urllib.error\n",
    "from twurl  import augment\n",
    "import ssl\n",
    "import json\n",
    "\n",
    "TWITTER_URL=\"https://api.twitter.com/1.1/statuses/user_timeline.json\"\n",
    "print('* Calling Twitter...')\n",
    "url = augment(TWITTER_URL,{'screen_name':\"ThravnX\",'count':'2'})\n",
    "print(url)\n",
    "\n",
    "ctx = ssl.create_default_context()\n",
    "ctx.check_hostname = False\n",
    "ctx.verify_mode = ssl.CERT_NONE\n",
    "\n",
    "'''\n",
    "while TRUE:\n",
    "    print('')\n",
    "    acct = input('Enter Twitter Account:')\n",
    "    if(len(acct)<1):break\n",
    "    url=twurl.augment(TWITTER_URL,{'screen_name':acct,'count':'5'})\n",
    "    print('Retrieving', url)\n",
    "    connection = urllib.request.urlopen(url)\n",
    "    data=connection.read().decode()\n",
    "    headers = dict(connection.getheaders())\n",
    "    print('Remaining',headers['x-rate-limit-reemaining'])\n",
    "    js = json.loads(data)\n",
    "    print(json.dumps(js,indent=4))\n",
    "    for u in js['users']:\n",
    "        print(u['screen_name'])\n",
    "        s = u['status']['text']\n",
    "        print(' ',s[:50])\n",
    "        '''"
   ]
  },
  {
   "cell_type": "code",
   "execution_count": 18,
   "metadata": {},
   "outputs": [
    {
     "name": "stdout",
     "output_type": "stream",
     "text": [
      "Enter Location:http://py4e-data.dr-chuck.net/comments_830882.json\n",
      "Retrieving http://py4e-data.dr-chuck.net/comments_830882.json\n",
      "Retrieved 2748 characters\n",
      "Count: 50\n",
      "Sum: 2513\n"
     ]
    }
   ],
   "source": [
    "import json\n",
    "import urllib.request,urllib.parse,urllib.response\n",
    "import ssl\n",
    "\n",
    "ctx=ssl.create_default_context()\n",
    "ctx.check_hostname = False\n",
    "ctx.verify_mode = ssl.CERT_NONE\n",
    "\n",
    "url = input(\"Enter Location:\")\n",
    "print(\"Retrieving\",url)\n",
    "tem=connection = urllib.request.urlopen(url,context=ctx).read().decode()\n",
    "print('Retrieved',len(tem),'characters')\n",
    "comms = json.loads(tem)[\"comments\"]\n",
    "print('Count:',len(comms))\n",
    "suma=0\n",
    "for comm in comms:\n",
    "    suma+=int(comm['count'])\n",
    "print('Sum:',suma)\n",
    "\n",
    "\n"
   ]
  },
  {
   "cell_type": "code",
   "execution_count": 27,
   "metadata": {},
   "outputs": [
    {
     "name": "stdout",
     "output_type": "stream",
     "text": [
      "Enter location: South Federal University\n",
      "Retrieving http://py4e-data.dr-chuck.net/json?address=South+Federal+University&key=42\n",
      "Retrieved 2433 characters\n",
      "Place id ChIJy0Uc1Zmym4gR3fmAYmWNuac\n"
     ]
    }
   ],
   "source": [
    "import urllib.request, urllib.parse, urllib.error\n",
    "import json\n",
    "import ssl\n",
    "\n",
    "api_key = 42\n",
    "serviceurl = 'http://py4e-data.dr-chuck.net/json?'\n",
    "\n",
    "ctx = ssl.create_default_context()\n",
    "ctx.check_hostname = False\n",
    "ctx.verify_mode = ssl.CERT_NONE\n",
    "address = input('Enter location: ')\n",
    "\n",
    "parms = dict()\n",
    "parms['address'] = address\n",
    "if api_key is not False: parms['key'] = api_key\n",
    "url = serviceurl + urllib.parse.urlencode(parms)\n",
    "print('Retrieving', url)\n",
    "uh = urllib.request.urlopen(url, context=ctx)\n",
    "data = uh.read().decode()\n",
    "print('Retrieved', len(data), 'characters')\n",
    "try:\n",
    "    js=json.loads(data)\n",
    "except:\n",
    "    js=None\n",
    "if not js or 'status' not in js or js['status'] != 'OK':\n",
    "        print('==== Failure To Retrieve ====')\n",
    "        print(data)\n",
    "else:\n",
    "    print('Place id',js['results'][0]['place_id'])\n"
   ]
  }
 ],
 "metadata": {
  "kernelspec": {
   "display_name": "Python 3",
   "language": "python",
   "name": "python3"
  }
 },
 "nbformat": 4,
 "nbformat_minor": 4
}
